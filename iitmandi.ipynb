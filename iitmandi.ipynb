{
 "cells": [
  {
   "cell_type": "code",
   "execution_count": 34,
   "metadata": {},
   "outputs": [],
   "source": [
    "from selenium import webdriver \n",
    "from selenium.webdriver.common.by import By\n",
    "\n",
    "# 1. webdriver\n",
    "# 2. .get\n",
    "# 3. .find element(BY.NAME, )\n",
    "# 4. .click\n",
    "# 5. .sendkeys\n",
    "# 6. BY.XPATH \n",
    "# 7. .implicitly_wait()\n",
    "# 8. .quit \n",
    "\n",
    "driver = webdriver.Chrome()\n",
    "driver.maximize_window()\n",
    "driver.implicitly_wait(10)\n",
    "driver.get(\"https://pythondjango12345.pythonanywhere.com/\")\n",
    "# signup = driver.find_element(By.XPATH,\"//button[@class='btn btn-danger']\")\n",
    "# signup.click()\n",
    "\n",
    "# #enter data \n",
    "# fname = driver.find_element(By.NAME,\"fname\").send_keys(\"kritika\")\n",
    "# lname = driver.find_element(By.NAME,\"lname\").send_keys(\"verma\")\n",
    "# uname = driver.find_element(By.NAME,\"username\").send_keys(\"kritika123\")\n",
    "# ename = driver.find_element(By.NAME,\"email\").send_keys(\"kritika12@gmail.com\")\n",
    "# pass1 = driver.find_element(By.NAME,\"pass1\").send_keys(\"kriti@123\")\n",
    "# pass2 = driver.find_element(By.NAME,\"pass2\").send_keys(\"kriti@123\")\n",
    "# driver.implicitly_wait(5)\n",
    "# submit = driver.find_element(By.XPATH,\"//button[@type='submit' and text()='Get Account']\")\n",
    "# submit.click()\n",
    "\n",
    "#login id \n",
    "login= driver.find_element(By.XPATH,\"//button[@type='button' and text()='Login']\")\n",
    "login.click()\n",
    "username= driver.find_element(By.NAME,\"loginusername\").send_keys(\"kritika123\")\n",
    "password = driver.find_element(By.NAME,\"loginpass\").send_keys(\"kriti@123\")\n",
    "submit = driver.find_element(By.XPATH,\"//button[@type='submit'and text()='Submit']\")\n",
    "submit.click()\n",
    "\n",
    "#logout id \n",
    "logout = driver.find_element(By.ID,\"navbarDropdown\")\n",
    "logout.click()\n",
    "log= driver.find_element(By.XPATH, \"//div[@class='dropdown-menu show']//a[@class='dropdown-item' and @href='/logout']\")\n",
    "log.click()\n",
    "driver.implicitly_wait(5)\n",
    "driver.quit()"
   ]
  },
  {
   "cell_type": "code",
   "execution_count": null,
   "metadata": {},
   "outputs": [],
   "source": []
  }
 ],
 "metadata": {
  "kernelspec": {
   "display_name": "Python 3",
   "language": "python",
   "name": "python3"
  },
  "language_info": {
   "codemirror_mode": {
    "name": "ipython",
    "version": 3
   },
   "file_extension": ".py",
   "mimetype": "text/x-python",
   "name": "python",
   "nbconvert_exporter": "python",
   "pygments_lexer": "ipython3",
   "version": "3.9.13"
  }
 },
 "nbformat": 4,
 "nbformat_minor": 2
}
