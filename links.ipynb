{
 "cells": [
  {
   "cell_type": "code",
   "execution_count": 3,
   "metadata": {},
   "outputs": [
    {
     "name": "stdout",
     "output_type": "stream",
     "text": [
      "['https://www.ihubiitmandi.in/my-account/lost-password/', 'https://www.ihubiitmandi.in/', 'https://ihubiitmandi.in/', 'https://www.ihubiitmandi.in/about-us/', 'https://www.ihubiitmandi.in/team/', 'https://www.ihubiitmandi.in/research-and-development/', 'https://www.ihubiitmandi.in/call-for-proposals/', 'https://www.ihubiitmandi.in/affiliated-faculty-2/', 'https://www.ihubiitmandi.in/fellowship/', 'https://www.ihubiitmandi.in/ongoing-projects/', 'https://www.ihubiitmandi.in/skill-development-programs/', 'https://www.ihubiitmandi.in/startups/', 'https://www.ihubiitmandi.in/collaborations/', 'https://www.ihubiitmandi.in/news-media/', 'https://www.ihubiitmandi.in/newsletter/', 'https://www.ihubiitmandi.in/press/', 'https://www.ihubiitmandi.in/brochure/', 'https://www.ihubiitmandi.in/gallery/', 'https://www.ihubiitmandi.in/center-of-excellence/', 'https://chci.iitmandi.ac.in/index.php', 'https://www.ihubiitmandi.in/about-us/#collapseSearchMobile', 'https://www.ihubiitmandi.in/my-account/', 'https://www.ihubiitmandi.in/', 'https://ihubiitmandi.in/research-and-development/', 'https://ihubiitmandi.in/skill-development-programs/', 'https://ihubiitmandi.in/startups/', 'https://ihubiitmandi.in/collaborations/', 'tel:90154%2058338', 'tel:90154%2058338', 'mailto:tih@iitmandi.ac.in', 'https://ihubiitmandi.in/about-us/', 'https://ihubiitmandi.in/team/', 'https://ihubiitmandi.in/infrastructure/', 'https://ihubiitmandi.in/contact-us/', 'https://ihubiitmandi.in/donation/', 'https://ihubiitmandi.in/careers/', 'https://ihubiitmandi.in/press/', 'https://ihubiitmandi.in/call-for-proposals/', 'https://innovometer.ihubiitmandi.in/', 'https://www.ihubiitmandi.in/call-for-innovation/', 'https://www.ihubiitmandi.in/newsletter/', 'https://ihubiitmandi.in/visits-to-ihub-office/', 'https://ihubiitmandi.in/workshops/', 'https://ihubiitmandi.in/news/', 'http://ihubiitmandi.in/lp-courses/', 'https://ihubiitmandi.in/startups/', 'https://ihubiitmandi.in/tender/', 'https://www.ihubiitmandi.in/wp-content/uploads/2023/12/Procurement-Policy.pdf', 'https://www.ihubiitmandi.in/audit-reports/', 'https://www.ihubiitmandi.in/about-us/#top', 'https://www.facebook.com/iitmandiihub', 'https://twitter.com/IITMandiiHub', 'https://www.instagram.com/?hl=en', 'https://www.linkedin.com/company/ihubiitmandi', 'https://www.youtube.com/@IITMandiiHubandHCIFoundation/featured']\n",
      "The total number of links are 55\n"
     ]
    }
   ],
   "source": [
    "from selenium import webdriver \n",
    "from selenium.webdriver.common.by import By \n",
    "references =[]\n",
    "def links():\n",
    "    # creating an instance of the chrome web browswe \n",
    "    driver = webdriver.Chrome()\n",
    "    #navigate to the iitmandi ihub website about page \n",
    "    driver.get(\"https://www.ihubiitmandi.in/about-us/\")\n",
    "    pagelinks = driver.find_elements(By.TAG_NAME,'a')\n",
    "    for link in pagelinks:\n",
    "        references.append(link.get_attribute(\"href\"))\n",
    "    print(references)\n",
    "    print(f\"The total number of links are {len(references)}\")\n",
    "    driver.quit()\n",
    "links()"
   ]
  },
  {
   "cell_type": "code",
   "execution_count": 5,
   "metadata": {},
   "outputs": [
    {
     "name": "stdout",
     "output_type": "stream",
     "text": [
      "['https://www.ihubiitmandi.in/my-account/lost-password/', 'https://www.ihubiitmandi.in/', 'https://ihubiitmandi.in/', 'https://www.ihubiitmandi.in/about-us/', 'https://www.ihubiitmandi.in/team/', 'https://www.ihubiitmandi.in/research-and-development/', 'https://www.ihubiitmandi.in/call-for-proposals/', 'https://www.ihubiitmandi.in/affiliated-faculty-2/', 'https://www.ihubiitmandi.in/fellowship/', 'https://www.ihubiitmandi.in/ongoing-projects/', 'https://www.ihubiitmandi.in/skill-development-programs/', 'https://www.ihubiitmandi.in/startups/', 'https://www.ihubiitmandi.in/collaborations/', 'https://www.ihubiitmandi.in/news-media/', 'https://www.ihubiitmandi.in/newsletter/', 'https://www.ihubiitmandi.in/press/', 'https://www.ihubiitmandi.in/brochure/', 'https://www.ihubiitmandi.in/gallery/', 'https://www.ihubiitmandi.in/center-of-excellence/', 'https://chci.iitmandi.ac.in/index.php', 'https://www.ihubiitmandi.in/about-us/#collapseSearchMobile', 'https://www.ihubiitmandi.in/my-account/', 'https://www.ihubiitmandi.in/', 'https://ihubiitmandi.in/research-and-development/', 'https://ihubiitmandi.in/skill-development-programs/', 'https://ihubiitmandi.in/startups/', 'https://ihubiitmandi.in/collaborations/', 'tel:90154%2058338', 'tel:90154%2058338', 'mailto:tih@iitmandi.ac.in', 'https://ihubiitmandi.in/about-us/', 'https://ihubiitmandi.in/team/', 'https://ihubiitmandi.in/infrastructure/', 'https://ihubiitmandi.in/contact-us/', 'https://ihubiitmandi.in/donation/', 'https://ihubiitmandi.in/careers/', 'https://ihubiitmandi.in/press/', 'https://ihubiitmandi.in/call-for-proposals/', 'https://innovometer.ihubiitmandi.in/', 'https://www.ihubiitmandi.in/call-for-innovation/', 'https://www.ihubiitmandi.in/newsletter/', 'https://ihubiitmandi.in/visits-to-ihub-office/', 'https://ihubiitmandi.in/workshops/', 'https://ihubiitmandi.in/news/', 'http://ihubiitmandi.in/lp-courses/', 'https://ihubiitmandi.in/startups/', 'https://ihubiitmandi.in/tender/', 'https://www.ihubiitmandi.in/wp-content/uploads/2023/12/Procurement-Policy.pdf', 'https://www.ihubiitmandi.in/audit-reports/', 'https://www.ihubiitmandi.in/about-us/#top', 'https://www.facebook.com/iitmandiihub', 'https://twitter.com/IITMandiiHub', 'https://www.instagram.com/?hl=en', 'https://www.linkedin.com/company/ihubiitmandi', 'https://www.youtube.com/@IITMandiiHubandHCIFoundation/featured']\n",
      "The total number of links are 55\n"
     ]
    }
   ],
   "source": [
    "from selenium import webdriver \n",
    "from selenium.webdriver.common.by import By \n",
    "references =[]\n",
    "def links():\n",
    "    # creating an instance of the chrome web browswe \n",
    "    driver = webdriver.Chrome()\n",
    "    #navigate to the iitmandi ihub website about page \n",
    "    driver.get(\"https://www.ihubiitmandi.in/about-us/\")\n",
    "    pagelinks = driver.find_elements(By.TAG_NAME,'a')\n",
    "    for link in pagelinks:\n",
    "        references.append(link.get_attribute(\"href\"))\n",
    "    print(references)\n",
    "    print(f\"The total number of links are {len(references)}\")\n",
    "    driver.quit()\n",
    "links()"
   ]
  },
  {
   "cell_type": "code",
   "execution_count": 4,
   "metadata": {},
   "outputs": [],
   "source": [
    "#Packages \n",
    "#--Web scraping packages \n",
    "from bs4 import BeautifulSoup\n",
    "import requests\n",
    "#pandas/numpy for data manipulation\n",
    "import pandas as pd \n",
    "import numpy as np\n",
    "import matplotlib.pylab as plt"
   ]
  },
  {
   "cell_type": "code",
   "execution_count": null,
   "metadata": {},
   "outputs": [],
   "source": []
  }
 ],
 "metadata": {
  "kernelspec": {
   "display_name": "Python 3",
   "language": "python",
   "name": "python3"
  },
  "language_info": {
   "codemirror_mode": {
    "name": "ipython",
    "version": 3
   },
   "file_extension": ".py",
   "mimetype": "text/x-python",
   "name": "python",
   "nbconvert_exporter": "python",
   "pygments_lexer": "ipython3",
   "version": "3.9.13"
  }
 },
 "nbformat": 4,
 "nbformat_minor": 2
}
