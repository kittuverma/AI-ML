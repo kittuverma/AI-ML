{
 "cells": [
  {
   "cell_type": "markdown",
   "id": "f112716a-5e46-456d-a0a7-f99939c9605f",
   "metadata": {},
   "source": [
    "1.solution"
   ]
  },
  {
   "cell_type": "code",
   "execution_count": 1,
   "id": "46d54e79-32ba-4b46-8bc3-dca3230060a8",
   "metadata": {},
   "outputs": [],
   "source": [
    "a= open(\"nthdata.txt\", \"r\")"
   ]
  },
  {
   "cell_type": "code",
   "execution_count": 2,
   "id": "431973ee-1979-48be-9e2a-fdf715e7ad81",
   "metadata": {},
   "outputs": [],
   "source": [
    "b=a.read()"
   ]
  },
  {
   "cell_type": "code",
   "execution_count": 3,
   "id": "51b3e41d-8951-4c63-883b-98cf5be588d3",
   "metadata": {},
   "outputs": [
    {
     "data": {
      "text/plain": [
       "'TCS,Sai,Rohit,Satya,Dhoni,Sarath,Saroj,Venkat,Sas\\nINFOSYS,Kohli,Santosh,Venkat,Koti,Prabha,Soumya,Mishra\\nWIPRO,Satya,Kohli,Ram,Chinna,Pop,Amelia,Suresh,Arjuna\\nCTS,Prabha,Subha,Debha,Rabha,Venkat,Dhoni,Surya,Saroj\\nNTH,Narayana,Akhil,Arha,Venkat,Sravya,Ananya,Revanth,Aha\\nABC,Arha,Chinna,Satya,Dhoni,Venkat,Rohit,Yash,Nikhilesh\\n'"
      ]
     },
     "execution_count": 3,
     "metadata": {},
     "output_type": "execute_result"
    }
   ],
   "source": [
    "b"
   ]
  },
  {
   "cell_type": "markdown",
   "id": "1864d64d-9139-4094-8ad2-6e7f56446522",
   "metadata": {},
   "source": [
    "2.solution "
   ]
  },
  {
   "cell_type": "code",
   "execution_count": 4,
   "id": "e5dad8ca-e31a-47f1-982e-abe2f716a855",
   "metadata": {},
   "outputs": [],
   "source": [
    "a=open(\"nthdata.txt\", \"r\")"
   ]
  },
  {
   "cell_type": "code",
   "execution_count": 5,
   "id": "93f3abe6-962e-4f3e-bc57-e6cf94bffbe7",
   "metadata": {},
   "outputs": [],
   "source": [
    "b=a.readline()"
   ]
  },
  {
   "cell_type": "code",
   "execution_count": 6,
   "id": "d5cdd57b-c100-447b-a7dc-461fd32cfff7",
   "metadata": {},
   "outputs": [
    {
     "data": {
      "text/plain": [
       "'TCS,Sai,Rohit,Satya,Dhoni,Sarath,Saroj,Venkat,Sas\\n'"
      ]
     },
     "execution_count": 6,
     "metadata": {},
     "output_type": "execute_result"
    }
   ],
   "source": [
    "b"
   ]
  },
  {
   "cell_type": "markdown",
   "id": "80d0d9ca-7640-49c3-a059-d65973a51b77",
   "metadata": {},
   "source": [
    "3.solution"
   ]
  },
  {
   "cell_type": "code",
   "execution_count": 7,
   "id": "86631833-c604-4a98-850c-5445e3c5301a",
   "metadata": {},
   "outputs": [],
   "source": [
    "a=open(\"nthdata.txt\", \"r\")"
   ]
  },
  {
   "cell_type": "code",
   "execution_count": 8,
   "id": "6648162d-fa30-4b6c-b597-52a3b405a212",
   "metadata": {},
   "outputs": [],
   "source": [
    "b=a.readlines()"
   ]
  },
  {
   "cell_type": "code",
   "execution_count": 9,
   "id": "2b3ebdad-c65d-4207-8792-7f09718036e2",
   "metadata": {},
   "outputs": [
    {
     "data": {
      "text/plain": [
       "['TCS,Sai,Rohit,Satya,Dhoni,Sarath,Saroj,Venkat,Sas\\n',\n",
       " 'INFOSYS,Kohli,Santosh,Venkat,Koti,Prabha,Soumya,Mishra\\n',\n",
       " 'WIPRO,Satya,Kohli,Ram,Chinna,Pop,Amelia,Suresh,Arjuna\\n',\n",
       " 'CTS,Prabha,Subha,Debha,Rabha,Venkat,Dhoni,Surya,Saroj\\n',\n",
       " 'NTH,Narayana,Akhil,Arha,Venkat,Sravya,Ananya,Revanth,Aha\\n',\n",
       " 'ABC,Arha,Chinna,Satya,Dhoni,Venkat,Rohit,Yash,Nikhilesh\\n']"
      ]
     },
     "execution_count": 9,
     "metadata": {},
     "output_type": "execute_result"
    }
   ],
   "source": [
    "b"
   ]
  },
  {
   "cell_type": "markdown",
   "id": "2ab39170-f2de-46de-adef-efe03b954254",
   "metadata": {},
   "source": [
    "how many lines in this file"
   ]
  },
  {
   "cell_type": "code",
   "execution_count": 10,
   "id": "51db5be8-d803-4a21-8428-dd925b9698d7",
   "metadata": {},
   "outputs": [],
   "source": [
    "a=open(\"nthdata.txt\", \"r\")"
   ]
  },
  {
   "cell_type": "code",
   "execution_count": 11,
   "id": "592a6a19-ab76-412e-9c5c-a4a11ed5bddd",
   "metadata": {},
   "outputs": [],
   "source": [
    "b=a.readlines()"
   ]
  },
  {
   "cell_type": "code",
   "execution_count": 12,
   "id": "c405c2df-9dea-4228-ae74-2906036a5fbd",
   "metadata": {},
   "outputs": [
    {
     "data": {
      "text/plain": [
       "6"
      ]
     },
     "execution_count": 12,
     "metadata": {},
     "output_type": "execute_result"
    }
   ],
   "source": [
    "len(b)"
   ]
  },
  {
   "cell_type": "markdown",
   "id": "d4444ccb-014f-4f6a-8fd4-073dff639cea",
   "metadata": {},
   "source": [
    "how many character are in the line"
   ]
  },
  {
   "cell_type": "code",
   "execution_count": 1,
   "id": "db8730a9-3191-436f-a559-9aadbd640816",
   "metadata": {},
   "outputs": [
    {
     "data": {
      "text/plain": [
       "326"
      ]
     },
     "execution_count": 1,
     "metadata": {},
     "output_type": "execute_result"
    }
   ],
   "source": [
    "# a=open(\"nthdata.txt\", \"r\")\n",
    "# b=a.read()\n",
    "with open(\"nthdata.txt\" , \"r\") as x:\n",
    "    b = x.read()\n",
    "\n",
    "len(b)"
   ]
  },
  {
   "cell_type": "markdown",
   "id": "f989d6e6-1e05-4d03-8440-0811df33f169",
   "metadata": {},
   "source": [
    "1. write a program to fetch all data feom the file "
   ]
  },
  {
   "cell_type": "code",
   "execution_count": 2,
   "id": "a4785c8e-5a0e-4bb2-9fb1-bfd945f0c8ee",
   "metadata": {},
   "outputs": [
    {
     "data": {
      "text/plain": [
       "326"
      ]
     },
     "execution_count": 2,
     "metadata": {},
     "output_type": "execute_result"
    }
   ],
   "source": [
    "# a=open(\"nthdata.txt\", \"r\")\n",
    "# b=a.read()\n",
    "with open(\"nthdata.txt\",\"r\") as file:\n",
    "    b=file.read()\n",
    "len(b)"
   ]
  },
  {
   "cell_type": "markdown",
   "id": "91ad767e-61bf-4574-aaf8-02e4dab8a825",
   "metadata": {},
   "source": [
    "2. write a program to read the first line from the file."
   ]
  },
  {
   "cell_type": "code",
   "execution_count": 18,
   "id": "f2757913-7ea5-4660-930d-26ac89c603a4",
   "metadata": {},
   "outputs": [
    {
     "data": {
      "text/plain": [
       "50"
      ]
     },
     "execution_count": 18,
     "metadata": {},
     "output_type": "execute_result"
    }
   ],
   "source": [
    "a=open(\"nthdata.txt\", \"r\")\n",
    "b=a.readline()\n",
    "len (b)"
   ]
  },
  {
   "cell_type": "markdown",
   "id": "331ee6cb-a9c8-4103-8acc-5b4c8cc68cc6",
   "metadata": {},
   "source": [
    "3. write a program to read the last line from the file ."
   ]
  },
  {
   "cell_type": "code",
   "execution_count": 21,
   "id": "4f9945ba-0c92-4c22-8ed8-5ad4dcebd284",
   "metadata": {},
   "outputs": [
    {
     "name": "stdout",
     "output_type": "stream",
     "text": [
      "ABC,Arha,Chinna,Satya,Dhoni,Venkat,Rohit,Yash,Nikhilesh\n",
      "\n"
     ]
    }
   ],
   "source": [
    "a=open(\"nthdata.txt\",\"r\")\n",
    "b=a.readlines()\n",
    "c=b[-1]\n",
    "print(c)"
   ]
  },
  {
   "cell_type": "markdown",
   "id": "9f10ec97-8406-4c0f-918d-7411e05971e5",
   "metadata": {},
   "source": [
    "4. write a program to read the 3rd line from file."
   ]
  },
  {
   "cell_type": "code",
   "execution_count": 26,
   "id": "dd145333-0486-4e70-b209-46d1cd326b92",
   "metadata": {},
   "outputs": [
    {
     "name": "stdout",
     "output_type": "stream",
     "text": [
      "WIPRO,Satya,Kohli,Ram,Chinna,Pop,Amelia,Suresh,Arjuna\n",
      "\n"
     ]
    }
   ],
   "source": [
    "a=open(\"nthdata.txt\", \"r\")\n",
    "b=a.readlines()\n",
    "c=b[2]\n",
    "print(c)"
   ]
  },
  {
   "cell_type": "markdown",
   "id": "e8ca0963-6a9b-4e52-a06c-638318e76421",
   "metadata": {},
   "source": [
    "5. write a program to count total number of chracter in the file."
   ]
  },
  {
   "cell_type": "markdown",
   "id": "968a5ea9-0115-491f-9322-7e21d2e35762",
   "metadata": {},
   "source": [
    "a=open(\"nthdata.txt\", \"r\")\n",
    "b=a.read()\n",
    "print(len(b))"
   ]
  },
  {
   "cell_type": "markdown",
   "id": "789aec36-c095-4a3c-a69e-645cb9940423",
   "metadata": {},
   "source": [
    "6. Write a Program to count total number of comma in the file"
   ]
  },
  {
   "cell_type": "code",
   "execution_count": 25,
   "id": "a6d1a4eb-3221-4fd0-a2e2-65cc90bc2423",
   "metadata": {},
   "outputs": [
    {
     "name": "stdout",
     "output_type": "stream",
     "text": [
      "47\n"
     ]
    }
   ],
   "source": [
    "a = open(\"nthdata.txt\", \"r\")\n",
    "b = a.read()\n",
    "c = b.count(',')\n",
    "print(c)\n",
    "a.close()"
   ]
  },
  {
   "cell_type": "markdown",
   "id": "aa4c1559-563a-41d4-aaa6-f91f281fbc33",
   "metadata": {},
   "source": [
    "7. Write a progrsm to count total number of words in the 1st line in the file"
   ]
  },
  {
   "cell_type": "code",
   "execution_count": 27,
   "id": "e87abc33-d42e-4765-8fcd-3ba746d0aef4",
   "metadata": {},
   "outputs": [
    {
     "name": "stdout",
     "output_type": "stream",
     "text": [
      "9\n"
     ]
    }
   ],
   "source": [
    "a = open(\"nthdata.txt\", \"r\")\n",
    "b = a.readline()\n",
    "c = b.split(',')\n",
    "print(len(c))"
   ]
  },
  {
   "cell_type": "markdown",
   "id": "f555a5cb-2dd3-4474-8ede-cf6ebd81498d",
   "metadata": {},
   "source": [
    "8. Write a progrsm to count total number of lines in the files"
   ]
  },
  {
   "cell_type": "code",
   "execution_count": 28,
   "id": "68168151-d90b-46fa-9d24-41cbbd59e1b7",
   "metadata": {},
   "outputs": [
    {
     "name": "stdout",
     "output_type": "stream",
     "text": [
      "6\n"
     ]
    }
   ],
   "source": [
    "a = open(\"nthdata.txt\", \"r\")\n",
    "b = a.readlines()\n",
    "print(len(b))\n",
    "a.close()"
   ]
  },
  {
   "cell_type": "markdown",
   "id": "7bebd2cc-95bd-4044-83be-4de8b72046e1",
   "metadata": {},
   "source": [
    "9. Write a program to count total number of \"Sai\" in the file"
   ]
  },
  {
   "cell_type": "code",
   "execution_count": 1,
   "id": "5bb27efb-ed40-45ad-b956-15e9aae4bed2",
   "metadata": {},
   "outputs": [
    {
     "name": "stdout",
     "output_type": "stream",
     "text": [
      "0\n"
     ]
    }
   ],
   "source": [
    "a=open(\"nthdata.txt\", \"r\")\n",
    "word=\"sai\"\n",
    "b=a.read()\n",
    "c=b.split(\",\")\n",
    "d=c.count(word)\n",
    "print(d)"
   ]
  },
  {
   "cell_type": "markdown",
   "id": "ce2b975f",
   "metadata": {},
   "source": [
    "10. write a program to fetch the first word from each line in the file ?"
   ]
  },
  {
   "cell_type": "code",
   "execution_count": 4,
   "id": "ec9514fe",
   "metadata": {},
   "outputs": [
    {
     "name": "stdout",
     "output_type": "stream",
     "text": [
      "TCS\n",
      "INFOSYS\n",
      "WIPRO\n",
      "CTS\n",
      "NTH\n",
      "ABC\n"
     ]
    }
   ],
   "source": [
    "a = open(\"nthdata.txt\",\"r\")\n",
    "b =a.readlines()\n",
    "for i in range(len(b)):\n",
    "    c =b[i]\n",
    "    d =c.split(\",\")\n",
    "    print(d[0])"
   ]
  },
  {
   "cell_type": "markdown",
   "id": "5a4a9cfb",
   "metadata": {},
   "source": [
    "11. write a program to fatch the last word from each line ?"
   ]
  },
  {
   "cell_type": "code",
   "execution_count": 5,
   "id": "cfa201ee",
   "metadata": {},
   "outputs": [
    {
     "name": "stdout",
     "output_type": "stream",
     "text": [
      "Sas\n",
      "\n",
      "Mishra\n",
      "\n",
      "Arjuna\n",
      "\n",
      "Saroj\n",
      "\n",
      "Aha\n",
      "\n",
      "Nikhilesh\n",
      "\n"
     ]
    }
   ],
   "source": [
    "a = open(\"nthdata.txt\",\"r\")\n",
    "b =a.readlines()\n",
    "for i in range(len(b)):\n",
    "    c =b[i]\n",
    "    d =c.split(\",\")\n",
    "    print(d[-1])"
   ]
  },
  {
   "cell_type": "markdown",
   "id": "bbecdc93",
   "metadata": {},
   "source": [
    "12. write a program to fetch all words which starts with 'a' characters ?"
   ]
  },
  {
   "cell_type": "code",
   "execution_count": 5,
   "id": "ed5aec3a",
   "metadata": {},
   "outputs": [
    {
     "name": "stdout",
     "output_type": "stream",
     "text": [
      "Amelia\n",
      "Arjuna\n",
      "Akhil\n",
      "Arha\n",
      "Ananya\n",
      "Aha\n",
      "ABC\n",
      "Arha\n"
     ]
    }
   ],
   "source": [
    "with open(\"nthdata.txt\",\"r\") as file:\n",
    "    b= file.read()\n",
    "    data=b.replace(\"\\n\",\",\")\n",
    "    data=data.split(\",\")\n",
    "    for i in data:\n",
    "        if i.startswith((\"a\",\"A\")):\n",
    "            print(i)\n"
   ]
  },
  {
   "cell_type": "markdown",
   "id": "a011b9c5",
   "metadata": {},
   "source": [
    "13. write a program to fatch all words which end with an vowel?"
   ]
  },
  {
   "cell_type": "code",
   "execution_count": 13,
   "id": "4c217436",
   "metadata": {},
   "outputs": [
    {
     "name": "stdout",
     "output_type": "stream",
     "text": [
      "['Rohit', 'Satya', 'Dhoni', 'Saroj', 'Kohli', 'WIPRO', 'Satya', 'Kohli', 'Subha', 'Debha', 'Rabha', 'Dhoni', 'Surya', 'Saroj', 'Akhil', 'Satya', 'Dhoni', 'Rohit']\n"
     ]
    }
   ],
   "source": [
    "with open(\"nthdata.txt\",\"r\") as file:\n",
    "    b=file.read()\n",
    "    data=b.replace(\"\\n\",\",\")\n",
    "    data=data.split(\",\")\n",
    "    result=[item for item in data if len(item)==5]\n",
    "    print(result)"
   ]
  },
  {
   "cell_type": "markdown",
   "id": "f4e75faa",
   "metadata": {},
   "source": [
    "14. write a program to fatch all words which has either 'a' or 'i' characters in the file?"
   ]
  },
  {
   "cell_type": "code",
   "execution_count": 17,
   "id": "ed8e277e",
   "metadata": {},
   "outputs": [
    {
     "name": "stdout",
     "output_type": "stream",
     "text": [
      "['Sai', 'Satya', 'Sarath', 'Saroj', 'Venkat', 'Sas', 'Santosh', 'Venkat', 'Prabha', 'Soumya', 'Mishra', 'Satya', 'Ram', 'Chinna', 'Amelia', 'Arjuna', 'Prabha', 'Subha', 'Debha', 'Rabha', 'Venkat', 'Surya', 'Saroj', 'Narayana', 'Arha', 'Venkat', 'Sravya', 'Ananya', 'Revanth', 'Aha', 'Arha', 'Chinna', 'Satya', 'Venkat', 'Yash']\n"
     ]
    }
   ],
   "source": [
    "with open(\"nthdata.txt\",\"r\") as file:\n",
    "    b=file.read()\n",
    "    data=b.replace(\"\\n\",\",\")\n",
    "    data=data.split(\",\")\n",
    "    result=[item for item in data if ('a'or'A'or'i'or'I') in item]\n",
    "    print(result)"
   ]
  },
  {
   "cell_type": "markdown",
   "id": "9ed811db",
   "metadata": {},
   "source": [
    "15. Write a program to fetch all words which contains only 5 characters in the file?\n"
   ]
  },
  {
   "cell_type": "code",
   "execution_count": 18,
   "id": "b8e415d6",
   "metadata": {},
   "outputs": [
    {
     "name": "stdout",
     "output_type": "stream",
     "text": [
      "['Rohit', 'Satya', 'Dhoni', 'Saroj', 'Kohli', 'WIPRO', 'Satya', 'Kohli', 'Subha', 'Debha', 'Rabha', 'Dhoni', 'Surya', 'Saroj', 'Akhil', 'Satya', 'Dhoni', 'Rohit']\n"
     ]
    }
   ],
   "source": [
    "with open(\"nthdata.txt\",\"r\") as file:\n",
    "    b=file.read()\n",
    "    data=b.replace(\"\\n\",\",\")\n",
    "    data=data.split(\",\")\n",
    "    result=[item for item in data if len(item)==5]\n",
    "    print(result)"
   ]
  },
  {
   "cell_type": "markdown",
   "id": "0ed92fc2",
   "metadata": {},
   "source": [
    "16. Write a program to fetch all words which does not contains vowels except i in the file?"
   ]
  },
  {
   "cell_type": "code",
   "execution_count": 19,
   "id": "6b59454d",
   "metadata": {},
   "outputs": [
    {
     "name": "stdout",
     "output_type": "stream",
     "text": [
      "[]\n"
     ]
    }
   ],
   "source": [
    "with open(\"nthdata.txt\",\"r\") as file:\n",
    "    b=file.read()\n",
    "    data=b.replace(\"\\n\",\",\")\n",
    "    data=data.split(\",\")\n",
    "    result=[item for item in data if (\"i\"in item or \"I\" in item)and all (v not in item for v in \"aeouAEOU\")]\n",
    "    print(result)"
   ]
  },
  {
   "cell_type": "markdown",
   "id": "1890d2ae",
   "metadata": {},
   "source": [
    "17. Write a program to fetch all words which ends with uppercase character in the file?"
   ]
  },
  {
   "cell_type": "code",
   "execution_count": 24,
   "id": "037a6b4e",
   "metadata": {},
   "outputs": [
    {
     "ename": "IndexError",
     "evalue": "string index out of range",
     "output_type": "error",
     "traceback": [
      "\u001b[1;31m---------------------------------------------------------------------------\u001b[0m",
      "\u001b[1;31mIndexError\u001b[0m                                Traceback (most recent call last)",
      "Cell \u001b[1;32mIn[24], line 5\u001b[0m\n\u001b[0;32m      3\u001b[0m data\u001b[38;5;241m=\u001b[39mb\u001b[38;5;241m.\u001b[39mreplace(\u001b[38;5;124m\"\u001b[39m\u001b[38;5;130;01m\\n\u001b[39;00m\u001b[38;5;124m\"\u001b[39m,\u001b[38;5;124m\"\u001b[39m\u001b[38;5;124m,\u001b[39m\u001b[38;5;124m\"\u001b[39m)\n\u001b[0;32m      4\u001b[0m data\u001b[38;5;241m=\u001b[39mdata\u001b[38;5;241m.\u001b[39msplit(\u001b[38;5;124m\"\u001b[39m\u001b[38;5;124m,\u001b[39m\u001b[38;5;124m\"\u001b[39m)\n\u001b[1;32m----> 5\u001b[0m result\u001b[38;5;241m=\u001b[39m[item \u001b[38;5;28;01mfor\u001b[39;00m item \u001b[38;5;129;01min\u001b[39;00m data \u001b[38;5;28;01mif\u001b[39;00m item[\u001b[38;5;241m-\u001b[39m\u001b[38;5;241m1\u001b[39m]\u001b[38;5;241m.\u001b[39misupper()]\n\u001b[0;32m      6\u001b[0m \u001b[38;5;28mprint\u001b[39m(result)\n",
      "Cell \u001b[1;32mIn[24], line 5\u001b[0m, in \u001b[0;36m<listcomp>\u001b[1;34m(.0)\u001b[0m\n\u001b[0;32m      3\u001b[0m data\u001b[38;5;241m=\u001b[39mb\u001b[38;5;241m.\u001b[39mreplace(\u001b[38;5;124m\"\u001b[39m\u001b[38;5;130;01m\\n\u001b[39;00m\u001b[38;5;124m\"\u001b[39m,\u001b[38;5;124m\"\u001b[39m\u001b[38;5;124m,\u001b[39m\u001b[38;5;124m\"\u001b[39m)\n\u001b[0;32m      4\u001b[0m data\u001b[38;5;241m=\u001b[39mdata\u001b[38;5;241m.\u001b[39msplit(\u001b[38;5;124m\"\u001b[39m\u001b[38;5;124m,\u001b[39m\u001b[38;5;124m\"\u001b[39m)\n\u001b[1;32m----> 5\u001b[0m result\u001b[38;5;241m=\u001b[39m[item \u001b[38;5;28;01mfor\u001b[39;00m item \u001b[38;5;129;01min\u001b[39;00m data \u001b[38;5;28;01mif\u001b[39;00m \u001b[43mitem\u001b[49m\u001b[43m[\u001b[49m\u001b[38;5;241;43m-\u001b[39;49m\u001b[38;5;241;43m1\u001b[39;49m\u001b[43m]\u001b[49m\u001b[38;5;241m.\u001b[39misupper()]\n\u001b[0;32m      6\u001b[0m \u001b[38;5;28mprint\u001b[39m(result)\n",
      "\u001b[1;31mIndexError\u001b[0m: string index out of range"
     ]
    }
   ],
   "source": [
    "with open(\"nthdata.txt\",\"r\") as file:\n",
    "    b=file.read()\n",
    "    data=b.replace(\"\\n\",\",\")\n",
    "    data=data.split(\",\")\n",
    "    result=[item for item in data if item[-1].isupper()]\n",
    "    print(result)"
   ]
  },
  {
   "cell_type": "markdown",
   "id": "686d9df8",
   "metadata": {},
   "source": [
    "18. Write a program to count total number of characters in the file excluding commas and \\ns?\n"
   ]
  },
  {
   "cell_type": "code",
   "execution_count": 25,
   "id": "a52a15b9",
   "metadata": {},
   "outputs": [
    {
     "name": "stdout",
     "output_type": "stream",
     "text": [
      "total no of character are 273\n"
     ]
    }
   ],
   "source": [
    "with open(\"nthdata.txt\",\"r\") as file:\n",
    "    character = 0 \n",
    "    b=file.read()\n",
    "    for item in data:\n",
    "        for i in item:\n",
    "            if(\",\"!=i!=\"\\n\"):\n",
    "                character +=1\n",
    "print(\"total no of character are\",character)\n",
    "        \n"
   ]
  },
  {
   "cell_type": "markdown",
   "id": "70eda92c",
   "metadata": {},
   "source": [
    "19. Write a program to count total number of words in the entire file?"
   ]
  },
  {
   "cell_type": "code",
   "execution_count": 27,
   "id": "f000c88e",
   "metadata": {},
   "outputs": [
    {
     "name": "stdout",
     "output_type": "stream",
     "text": [
      "total no of words are 54\n"
     ]
    }
   ],
   "source": [
    "with open(\"nthdata.txt\",\"r\") as file:\n",
    "    words = 0 \n",
    "    b=file.read()\n",
    "    for item in data:\n",
    "        words +=1\n",
    "print(\"total no of words are\",words)"
   ]
  },
  {
   "cell_type": "markdown",
   "id": "3d1e8369",
   "metadata": {},
   "source": [
    "20. Write a program to fetch all even number words from from every line the file?"
   ]
  },
  {
   "cell_type": "code",
   "execution_count": 1,
   "id": "580a027e",
   "metadata": {},
   "outputs": [
    {
     "name": "stdout",
     "output_type": "stream",
     "text": [
      "['Sarath', 'Venkat', 'Venkat', 'Koti', 'Prabha', 'Soumya', 'Mishra', 'Chinna', 'Amelia', 'Suresh', 'Arjuna', 'Prabha', 'Venkat', 'Narayana', 'Arha', 'Venkat', 'Sravya', 'Ananya', 'Arha', 'Chinna', 'Venkat', 'Yash', '']\n"
     ]
    }
   ],
   "source": [
    "with open(\"nthdata.txt\",\"r\") as file:\n",
    "    b=file.read()\n",
    "    data=b.replace(\"\\n\",\",\")\n",
    "    data=data.split(\",\")\n",
    "    result=[item for item in data if len(item)%2==0]\n",
    "    print(result)"
   ]
  },
  {
   "cell_type": "markdown",
   "id": "e4c9b597",
   "metadata": {},
   "source": [
    "21. Write a program to fetch all words which ends with 'bha' in the file?\n"
   ]
  },
  {
   "cell_type": "code",
   "execution_count": 2,
   "id": "eb4130d1",
   "metadata": {},
   "outputs": [
    {
     "name": "stdout",
     "output_type": "stream",
     "text": [
      "['Prabha', 'Prabha', 'Subha', 'Debha', 'Rabha']\n"
     ]
    }
   ],
   "source": [
    "with open(\"nthdata.txt\",\"r\") as file:\n",
    "    b=file.read()\n",
    "    data=b.replace(\"\\n\",\",\")\n",
    "    data=data.split(\",\")\n",
    "    result=[item for item in data if item.endswith(\"bha\")]\n",
    "    print(result)"
   ]
  },
  {
   "cell_type": "markdown",
   "id": "ecc2dc4c",
   "metadata": {},
   "source": [
    "22. Write a program to display all TCS employees?"
   ]
  },
  {
   "cell_type": "code",
   "execution_count": 3,
   "id": "0a3158ed",
   "metadata": {},
   "outputs": [
    {
     "name": "stdout",
     "output_type": "stream",
     "text": [
      "['Sai', 'Rohit', 'Satya', 'Dhoni', 'Sarath', 'Saroj', 'Venkat', 'Sas']\n"
     ]
    }
   ],
   "source": [
    "with open(\"nthdata.txt\",\"r\") as file:\n",
    "    b=file.read()\n",
    "    # create a list  of element after each and every enter \n",
    "    data =b.split(\"\\n\")\n",
    "    for i in range(len(data)):\n",
    "        #breaking each element into sepparate list by comma and storing it \n",
    "        dataset = data[i].split(\",\")\n",
    "        #if company name is TCS then printing employees names\n",
    "        if dataset[0]==\"TCS\":\n",
    "            print(dataset[1:])"
   ]
  },
  {
   "cell_type": "markdown",
   "id": "c4bec988",
   "metadata": {},
   "source": [
    "23. Write a program to display the company name of Chinna Employee?"
   ]
  },
  {
   "cell_type": "code",
   "execution_count": 6,
   "id": "6c51fc9b",
   "metadata": {},
   "outputs": [
    {
     "name": "stdout",
     "output_type": "stream",
     "text": [
      "['WIPRO', 'ABC']\n"
     ]
    }
   ],
   "source": [
    "with open(\"nthdata.txt\",\"r\") as file:\n",
    "    b=file.read()\n",
    "    employee=\"Chinna\"\n",
    "    # create a list  of element after each and every enter \n",
    "    data =b.split(\"\\n\")\n",
    "    result = [dataset[0]for dataset in (data[i].split(\",\")for i in range(len(data)))if employee in dataset]\n",
    "    print(result)"
   ]
  },
  {
   "cell_type": "markdown",
   "id": "878f5e84",
   "metadata": {},
   "source": [
    "24. Write a program to fetch the 2nd from 3rd line in the file?"
   ]
  },
  {
   "cell_type": "code",
   "execution_count": 1,
   "id": "df961c50",
   "metadata": {},
   "outputs": [
    {
     "name": "stdout",
     "output_type": "stream",
     "text": [
      "Satya\n"
     ]
    }
   ],
   "source": [
    "with open(\"nthdata.txt\",\"r\") as file:\n",
    "    b=file.read()\n",
    "    #creating a list of elements after each and every enter\n",
    "    data = b.split(\"\\n\")\n",
    "    data = data[2]\n",
    "    data = data.split(\",\")\n",
    "    print(data[1])"
   ]
  },
  {
   "cell_type": "markdown",
   "id": "9914e3a7",
   "metadata": {},
   "source": [
    "25. Write a program to fetch the first character from each word in the 3rd line?"
   ]
  },
  {
   "cell_type": "code",
   "execution_count": 3,
   "id": "92e250ea",
   "metadata": {},
   "outputs": [
    {
     "name": "stdout",
     "output_type": "stream",
     "text": [
      "W\n",
      "S\n",
      "K\n",
      "R\n",
      "C\n",
      "P\n",
      "A\n",
      "S\n",
      "A\n"
     ]
    }
   ],
   "source": [
    "with open(\"nthdata.txt\",\"r\") as file:\n",
    "    b=file.read()\n",
    "    #creating a list of elements after each and every enter\n",
    "    data = b.split(\"\\n\")\n",
    "    data = data[2]\n",
    "    data = data.split(\",\")\n",
    "    for i in range(len(data)):\n",
    "        print(data[i][0])"
   ]
  },
  {
   "cell_type": "markdown",
   "id": "2f5c15da",
   "metadata": {},
   "source": [
    "26. Write a program to fetch first and last character of each word in the last line?"
   ]
  },
  {
   "cell_type": "code",
   "execution_count": 13,
   "id": "f6161dae",
   "metadata": {},
   "outputs": [
    {
     "name": "stdout",
     "output_type": "stream",
     "text": [
      "first and last word in ABC are respectively A and C\n",
      "first and last word in Arha are respectively A and a\n",
      "first and last word in Chinna are respectively C and a\n",
      "first and last word in Satya are respectively S and a\n",
      "first and last word in Dhoni are respectively D and i\n",
      "first and last word in Venkat are respectively V and t\n",
      "first and last word in Rohit are respectively R and t\n",
      "first and last word in Yash are respectively Y and h\n",
      "first and last word in Nikhilesh are respectively N and h\n"
     ]
    }
   ],
   "source": [
    "with open(\"nthdata.txt\",\"r\") as file:\n",
    "    b=file.read()\n",
    "    #creating a list of elements after each and every enter\n",
    "    data = b.split(\"\\n\")\n",
    "    data = data[-1]\n",
    "    data = data.split(\",\")\n",
    "    for i in range(len(data)):\n",
    "        print(f\"first and last word in {data[i]} are respectively {data[i][0]} and {data[i][-1]}\")"
   ]
  },
  {
   "cell_type": "markdown",
   "id": "e48f17b3",
   "metadata": {},
   "source": [
    "27. Write a program to fetch all characters(except 1st and last chars) of each word in the 2nd line?"
   ]
  },
  {
   "cell_type": "code",
   "execution_count": 15,
   "id": "babce46a",
   "metadata": {},
   "outputs": [
    {
     "name": "stdout",
     "output_type": "stream",
     "text": [
      "['N', 'F', 'O', 'S', 'Y']\n",
      "['o', 'h', 'l']\n",
      "['a', 'n', 't', 'o', 's']\n",
      "['e', 'n', 'k', 'a']\n",
      "['o', 't']\n",
      "['r', 'a', 'b', 'h']\n",
      "['o', 'u', 'm', 'y']\n",
      "['i', 's', 'h', 'r']\n"
     ]
    }
   ],
   "source": [
    "with open(\"nthdata.txt\",\"r\") as file:\n",
    "    b=file.read()\n",
    "    #creating a list of elements after each and every enter\n",
    "    data = b.split(\"\\n\")\n",
    "    data = data[1]\n",
    "    data = data.split(\",\")\n",
    "    for i in range(len(data)):\n",
    "        characterlist =[]\n",
    "        for j in range(len(data[i])):\n",
    "            if (j == 0 or j == (len(data[i])-1)):\n",
    "                continue\n",
    "            else:\n",
    "                characterlist.append(data[i][j])\n",
    "        print(characterlist)\n"
   ]
  },
  {
   "cell_type": "markdown",
   "id": "7a954839",
   "metadata": {},
   "source": [
    "28. Write a program to count total number of words which starts with 'S' character?"
   ]
  },
  {
   "cell_type": "markdown",
   "id": "d3b3382a",
   "metadata": {},
   "source": [
    "29. Write a program to fetch all duplicate names in the file?"
   ]
  },
  {
   "cell_type": "code",
   "execution_count": 4,
   "id": "b939d147",
   "metadata": {},
   "outputs": [
    {
     "name": "stdout",
     "output_type": "stream",
     "text": [
      "['Rohit', 'Satya', 'Dhoni', 'Saroj', 'Venkat', 'Kohli', 'Prabha', 'Chinna', 'Arha']\n"
     ]
    }
   ],
   "source": [
    "with open(\"nthdata.txt\",\"r\") as file:\n",
    "    data=file.read()\n",
    "    duplicate = []\n",
    "    data = data.replace(\"\\n\" , \",\")\n",
    "    new = data.split(\",\")\n",
    "    for i in new :\n",
    "        if new.count(i) >1:\n",
    "            if i not in duplicate:\n",
    "                duplicate.append(i)\n",
    "    print(duplicate)\n",
    "        "
   ]
  },
  {
   "cell_type": "markdown",
   "id": "b8e2b506",
   "metadata": {},
   "source": [
    "30. Write a program to count all vowels in the file? (Note: output must be in dict)"
   ]
  },
  {
   "cell_type": "code",
   "execution_count": 6,
   "id": "73659af2",
   "metadata": {},
   "outputs": [
    {
     "name": "stdout",
     "output_type": "stream",
     "text": [
      "{'a': 35, 'e': 10, 'i': 15, 'o': 13, 'u': 5}\n"
     ]
    }
   ],
   "source": [
    "with open(\"nthdata.txt\",\"r\") as file:\n",
    "    b=file.read()\n",
    "    vowels=\"aeiouAEIOU\"\n",
    "    vowels={\n",
    "        \"a\":0,\n",
    "        \"e\":0,\n",
    "        \"i\":0, \n",
    "        \"o\":0, \n",
    "        \"u\":0\n",
    "    }\n",
    "    #crearing a list of element after each and every enter\n",
    "    data = b.split(\"\\n\")\n",
    "    #splitting each line by comma\n",
    "    data= [item for line in data for item in line.split(\",\")]\n",
    "    for i in data:\n",
    "        if \"a\" in i:\n",
    "            vowels[\"a\"]=vowels[\"a\"]+1\n",
    "        if \"e\" in i:\n",
    "            vowels[\"e\"]=vowels[\"e\"]+1\n",
    "        if \"i\" in i:\n",
    "            vowels[\"i\"]=vowels[\"i\"]+1\n",
    "        if \"o\" in i:\n",
    "            vowels[\"o\"]=vowels[\"o\"]+1    \n",
    "        if \"u\" in i:\n",
    "            vowels[\"u\"]=vowels[\"u\"]+1       \n",
    "    print(vowels)\n"
   ]
  },
  {
   "cell_type": "markdown",
   "id": "8935bff5",
   "metadata": {},
   "source": [
    "31. Write a program to reverse all words in the file?"
   ]
  },
  {
   "cell_type": "code",
   "execution_count": 7,
   "id": "38aabfbc",
   "metadata": {},
   "outputs": [
    {
     "name": "stdout",
     "output_type": "stream",
     "text": [
      "['SCT', 'iaS', 'tihoR', 'aytaS', 'inohD', 'htaraS', 'joraS', 'takneV', 'saS', 'SYSOFNI', 'ilhoK', 'hsotnaS', 'takneV', 'itoK', 'ahbarP', 'aymuoS', 'arhsiM', 'ORPIW', 'aytaS', 'ilhoK', 'maR', 'annihC', 'poP', 'ailemA', 'hseruS', 'anujrA', 'STC', 'ahbarP', 'ahbuS', 'ahbeD', 'ahbaR', 'takneV', 'inohD', 'ayruS', 'joraS', 'HTN', 'anayaraN', 'lihkA', 'ahrA', 'takneV', 'ayvarS', 'aynanA', 'htnaveR', 'ahA', 'CBA', 'ahrA', 'annihC', 'aytaS', 'inohD', 'takneV', 'tihoR', 'hsaY', 'hselihkiN']\n"
     ]
    }
   ],
   "source": [
    "with open(\"nthdata.txt\",\"r\") as file:\n",
    "    b=file.read()\n",
    "    reversed = []\n",
    "    data = b.replace(\"\\n\" , \",\")\n",
    "    data = data.split(\",\")\n",
    "    for i in new :\n",
    "        reversed.append(i[::-1])\n",
    "    print(reversed)"
   ]
  },
  {
   "cell_type": "markdown",
   "id": "4004f866",
   "metadata": {},
   "source": [
    "32. Write a program to fetch all words which contains two or more then 'a' characters?"
   ]
  },
  {
   "cell_type": "code",
   "execution_count": 13,
   "id": "67dc24c2",
   "metadata": {},
   "outputs": [
    {
     "name": "stdout",
     "output_type": "stream",
     "text": [
      "Satya\n",
      "Sarath\n",
      "Prabha\n",
      "Satya\n",
      "Prabha\n",
      "Rabha\n",
      "Narayana\n",
      "Sravya\n",
      "Ananya\n",
      "Satya\n"
     ]
    }
   ],
   "source": [
    "with open(\"nthdata.txt\",\"r\") as file:\n",
    "    b=file.read()\n",
    "    reversed = []\n",
    "    data = b.replace(\"\\n\" , \",\")\n",
    "    data = data.split(\",\")\n",
    "    for i in data :\n",
    "        if i.count(\"a\")>=2:\n",
    "            print(i)"
   ]
  },
  {
   "cell_type": "markdown",
   "id": "5a278aaa",
   "metadata": {},
   "source": [
    "33. Write a program to fetch all words which starts and ends with 'a' character?\n"
   ]
  },
  {
   "cell_type": "code",
   "execution_count": 11,
   "id": "5dfb479d",
   "metadata": {},
   "outputs": [
    {
     "name": "stdout",
     "output_type": "stream",
     "text": [
      "Amelia\n",
      "Arjuna\n",
      "Arha\n",
      "Ananya\n",
      "Aha\n",
      "Arha\n"
     ]
    }
   ],
   "source": [
    "with open(\"nthdata.txt\",\"r\") as file:\n",
    "    b=file.read()\n",
    "    data = b.replace(\"\\n\" , \",\")\n",
    "    data = data.split(\",\")\n",
    "    for i in data:\n",
    "        if (i.startswith(\"a\")or i.startswith(\"A\")) and (i.endswith(\"a\")or i.endswith(\"A\")):         \n",
    "            print(i)"
   ]
  },
  {
   "cell_type": "markdown",
   "id": "82ce3a83",
   "metadata": {},
   "source": [
    "34. Write a program to fetch word which has more number of 'a' characters?\n"
   ]
  },
  {
   "cell_type": "code",
   "execution_count": 14,
   "id": "c8221f04",
   "metadata": {},
   "outputs": [
    {
     "name": "stdout",
     "output_type": "stream",
     "text": [
      "Satya\n",
      "Sarath\n",
      "Prabha\n",
      "Satya\n",
      "Prabha\n",
      "Rabha\n",
      "Narayana\n",
      "Sravya\n",
      "Ananya\n",
      "Satya\n"
     ]
    }
   ],
   "source": [
    "with open(\"nthdata.txt\",\"r\") as file:\n",
    "    b=file.read()\n",
    "    data = b.replace(\"\\n\" , \",\")\n",
    "    data = data.split(\",\")\n",
    "    for i in data:\n",
    "        if i.count(\"a\")>=2:\n",
    "            print(i)"
   ]
  },
  {
   "cell_type": "markdown",
   "id": "969c5fdb",
   "metadata": {},
   "source": [
    "35. Write a program to fetch all company names which starts with vowel?"
   ]
  },
  {
   "cell_type": "code",
   "execution_count": null,
   "id": "3e754539",
   "metadata": {},
   "outputs": [],
   "source": []
  }
 ],
 "metadata": {
  "kernelspec": {
   "display_name": "Python 3",
   "language": "python",
   "name": "python3"
  },
  "language_info": {
   "codemirror_mode": {
    "name": "ipython",
    "version": 3
   },
   "file_extension": ".py",
   "mimetype": "text/x-python",
   "name": "python",
   "nbconvert_exporter": "python",
   "pygments_lexer": "ipython3",
   "version": "3.9.13"
  }
 },
 "nbformat": 4,
 "nbformat_minor": 5
}
